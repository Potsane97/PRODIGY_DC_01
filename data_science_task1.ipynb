{
  "nbformat": 4,
  "nbformat_minor": 0,
  "metadata": {
    "colab": {
      "provenance": [],
      "authorship_tag": "ABX9TyO0oyMQWvrTU4OOY14R1U0f",
      "include_colab_link": true
    },
    "kernelspec": {
      "name": "python3",
      "display_name": "Python 3"
    },
    "language_info": {
      "name": "python"
    }
  },
  "cells": [
    {
      "cell_type": "markdown",
      "metadata": {
        "id": "view-in-github",
        "colab_type": "text"
      },
      "source": [
        "<a href=\"https://colab.research.google.com/github/Potsane97/PRODIGY_DC_01/blob/main/data_science_task1.ipynb\" target=\"_parent\"><img src=\"https://colab.research.google.com/assets/colab-badge.svg\" alt=\"Open In Colab\"/></a>"
      ]
    },
    {
      "cell_type": "code",
      "execution_count": null,
      "metadata": {
        "id": "65u-S6pUJIgJ"
      },
      "outputs": [],
      "source": [
        "\n"
      ]
    },
    {
      "cell_type": "code",
      "execution_count": 8,
      "metadata": {
        "id": "yMU9w9ITrUSC",
        "colab": {
          "base_uri": "https://localhost:8080/"
        },
        "outputId": "0351ef55-6ba5-4cc6-fa0c-e5f9897946c0"
      },
      "outputs": [
        {
          "output_type": "stream",
          "name": "stdout",
          "text": [
            "Requirement already satisfied: kaleido in /usr/local/lib/python3.11/dist-packages (0.2.1)\n"
          ]
        }
      ],
      "source": [
        "!pip install -U kaleido\n",
        "import numpy as np\n",
        "import pandas as pd\n",
        "import plotly.express as px\n",
        "from textblob import TextBlob\n",
        "import matplotlib.pyplot as plt\n",
        "\n",
        "df = pd.read_csv('worldbank.csv')"
      ]
    },
    {
      "cell_type": "code",
      "source": [
        "df.head()"
      ],
      "metadata": {
        "colab": {
          "base_uri": "https://localhost:8080/",
          "height": 340
        },
        "id": "wKYfi7ZVLUY0",
        "outputId": "f1111e0b-aa29-4eac-e519-9a2de2a00621"
      },
      "execution_count": 9,
      "outputs": [
        {
          "output_type": "execute_result",
          "data": {
            "text/plain": [
              "                  Country Name Country Code     Indicator Name Indicator Code  \\\n",
              "0                        Aruba          ABW  Population, total    SP.POP.TOTL   \n",
              "1  Africa Eastern and Southern          AFE  Population, total    SP.POP.TOTL   \n",
              "2                  Afghanistan          AFG  Population, total    SP.POP.TOTL   \n",
              "3   Africa Western and Central          AFW  Population, total    SP.POP.TOTL   \n",
              "4                       Angola          AGO  Population, total    SP.POP.TOTL   \n",
              "\n",
              "          1960         1961         1962         1963         1964  \\\n",
              "0      54922.0      55578.0      56320.0      57002.0      57619.0   \n",
              "1  130072080.0  133534923.0  137171659.0  140945536.0  144904094.0   \n",
              "2    9035043.0    9214083.0    9404406.0    9604487.0    9814318.0   \n",
              "3   97630925.0   99706674.0  101854756.0  104089175.0  106388440.0   \n",
              "4    5231654.0    5301583.0    5354310.0    5408320.0    5464187.0   \n",
              "\n",
              "          1965  ...         2014         2015         2016         2017  \\\n",
              "0      58190.0  ...     106807.0     107906.0     108727.0     108735.0   \n",
              "1  149033472.0  ...  590968990.0  607123269.0  623369401.0  640058741.0   \n",
              "2   10036008.0  ...   32792523.0   33831764.0   34700612.0   35688935.0   \n",
              "3  108772632.0  ...  406992047.0  418127845.0  429454743.0  440882906.0   \n",
              "4    5521981.0  ...   27160769.0   28157798.0   29183070.0   30234839.0   \n",
              "\n",
              "          2018         2019         2020         2021         2022  \\\n",
              "0     108908.0     109203.0     108587.0     107700.0     107310.0   \n",
              "1  657801085.0  675950189.0  694446100.0  713090928.0  731821393.0   \n",
              "2   36743039.0   37856121.0   39068979.0   40000412.0   40578842.0   \n",
              "3  452195915.0  463365429.0  474569351.0  485920997.0  497387180.0   \n",
              "4   31297155.0   32375632.0   33451132.0   34532429.0   35635029.0   \n",
              "\n",
              "          2023  \n",
              "0     107359.0  \n",
              "1  750503764.0  \n",
              "2   41454761.0  \n",
              "3  509398589.0  \n",
              "4   36749906.0  \n",
              "\n",
              "[5 rows x 68 columns]"
            ],
            "text/html": [
              "\n",
              "  <div id=\"df-58ecd873-05f7-49e2-89cf-466f882c5a4d\" class=\"colab-df-container\">\n",
              "    <div>\n",
              "<style scoped>\n",
              "    .dataframe tbody tr th:only-of-type {\n",
              "        vertical-align: middle;\n",
              "    }\n",
              "\n",
              "    .dataframe tbody tr th {\n",
              "        vertical-align: top;\n",
              "    }\n",
              "\n",
              "    .dataframe thead th {\n",
              "        text-align: right;\n",
              "    }\n",
              "</style>\n",
              "<table border=\"1\" class=\"dataframe\">\n",
              "  <thead>\n",
              "    <tr style=\"text-align: right;\">\n",
              "      <th></th>\n",
              "      <th>Country Name</th>\n",
              "      <th>Country Code</th>\n",
              "      <th>Indicator Name</th>\n",
              "      <th>Indicator Code</th>\n",
              "      <th>1960</th>\n",
              "      <th>1961</th>\n",
              "      <th>1962</th>\n",
              "      <th>1963</th>\n",
              "      <th>1964</th>\n",
              "      <th>1965</th>\n",
              "      <th>...</th>\n",
              "      <th>2014</th>\n",
              "      <th>2015</th>\n",
              "      <th>2016</th>\n",
              "      <th>2017</th>\n",
              "      <th>2018</th>\n",
              "      <th>2019</th>\n",
              "      <th>2020</th>\n",
              "      <th>2021</th>\n",
              "      <th>2022</th>\n",
              "      <th>2023</th>\n",
              "    </tr>\n",
              "  </thead>\n",
              "  <tbody>\n",
              "    <tr>\n",
              "      <th>0</th>\n",
              "      <td>Aruba</td>\n",
              "      <td>ABW</td>\n",
              "      <td>Population, total</td>\n",
              "      <td>SP.POP.TOTL</td>\n",
              "      <td>54922.0</td>\n",
              "      <td>55578.0</td>\n",
              "      <td>56320.0</td>\n",
              "      <td>57002.0</td>\n",
              "      <td>57619.0</td>\n",
              "      <td>58190.0</td>\n",
              "      <td>...</td>\n",
              "      <td>106807.0</td>\n",
              "      <td>107906.0</td>\n",
              "      <td>108727.0</td>\n",
              "      <td>108735.0</td>\n",
              "      <td>108908.0</td>\n",
              "      <td>109203.0</td>\n",
              "      <td>108587.0</td>\n",
              "      <td>107700.0</td>\n",
              "      <td>107310.0</td>\n",
              "      <td>107359.0</td>\n",
              "    </tr>\n",
              "    <tr>\n",
              "      <th>1</th>\n",
              "      <td>Africa Eastern and Southern</td>\n",
              "      <td>AFE</td>\n",
              "      <td>Population, total</td>\n",
              "      <td>SP.POP.TOTL</td>\n",
              "      <td>130072080.0</td>\n",
              "      <td>133534923.0</td>\n",
              "      <td>137171659.0</td>\n",
              "      <td>140945536.0</td>\n",
              "      <td>144904094.0</td>\n",
              "      <td>149033472.0</td>\n",
              "      <td>...</td>\n",
              "      <td>590968990.0</td>\n",
              "      <td>607123269.0</td>\n",
              "      <td>623369401.0</td>\n",
              "      <td>640058741.0</td>\n",
              "      <td>657801085.0</td>\n",
              "      <td>675950189.0</td>\n",
              "      <td>694446100.0</td>\n",
              "      <td>713090928.0</td>\n",
              "      <td>731821393.0</td>\n",
              "      <td>750503764.0</td>\n",
              "    </tr>\n",
              "    <tr>\n",
              "      <th>2</th>\n",
              "      <td>Afghanistan</td>\n",
              "      <td>AFG</td>\n",
              "      <td>Population, total</td>\n",
              "      <td>SP.POP.TOTL</td>\n",
              "      <td>9035043.0</td>\n",
              "      <td>9214083.0</td>\n",
              "      <td>9404406.0</td>\n",
              "      <td>9604487.0</td>\n",
              "      <td>9814318.0</td>\n",
              "      <td>10036008.0</td>\n",
              "      <td>...</td>\n",
              "      <td>32792523.0</td>\n",
              "      <td>33831764.0</td>\n",
              "      <td>34700612.0</td>\n",
              "      <td>35688935.0</td>\n",
              "      <td>36743039.0</td>\n",
              "      <td>37856121.0</td>\n",
              "      <td>39068979.0</td>\n",
              "      <td>40000412.0</td>\n",
              "      <td>40578842.0</td>\n",
              "      <td>41454761.0</td>\n",
              "    </tr>\n",
              "    <tr>\n",
              "      <th>3</th>\n",
              "      <td>Africa Western and Central</td>\n",
              "      <td>AFW</td>\n",
              "      <td>Population, total</td>\n",
              "      <td>SP.POP.TOTL</td>\n",
              "      <td>97630925.0</td>\n",
              "      <td>99706674.0</td>\n",
              "      <td>101854756.0</td>\n",
              "      <td>104089175.0</td>\n",
              "      <td>106388440.0</td>\n",
              "      <td>108772632.0</td>\n",
              "      <td>...</td>\n",
              "      <td>406992047.0</td>\n",
              "      <td>418127845.0</td>\n",
              "      <td>429454743.0</td>\n",
              "      <td>440882906.0</td>\n",
              "      <td>452195915.0</td>\n",
              "      <td>463365429.0</td>\n",
              "      <td>474569351.0</td>\n",
              "      <td>485920997.0</td>\n",
              "      <td>497387180.0</td>\n",
              "      <td>509398589.0</td>\n",
              "    </tr>\n",
              "    <tr>\n",
              "      <th>4</th>\n",
              "      <td>Angola</td>\n",
              "      <td>AGO</td>\n",
              "      <td>Population, total</td>\n",
              "      <td>SP.POP.TOTL</td>\n",
              "      <td>5231654.0</td>\n",
              "      <td>5301583.0</td>\n",
              "      <td>5354310.0</td>\n",
              "      <td>5408320.0</td>\n",
              "      <td>5464187.0</td>\n",
              "      <td>5521981.0</td>\n",
              "      <td>...</td>\n",
              "      <td>27160769.0</td>\n",
              "      <td>28157798.0</td>\n",
              "      <td>29183070.0</td>\n",
              "      <td>30234839.0</td>\n",
              "      <td>31297155.0</td>\n",
              "      <td>32375632.0</td>\n",
              "      <td>33451132.0</td>\n",
              "      <td>34532429.0</td>\n",
              "      <td>35635029.0</td>\n",
              "      <td>36749906.0</td>\n",
              "    </tr>\n",
              "  </tbody>\n",
              "</table>\n",
              "<p>5 rows × 68 columns</p>\n",
              "</div>\n",
              "    <div class=\"colab-df-buttons\">\n",
              "\n",
              "  <div class=\"colab-df-container\">\n",
              "    <button class=\"colab-df-convert\" onclick=\"convertToInteractive('df-58ecd873-05f7-49e2-89cf-466f882c5a4d')\"\n",
              "            title=\"Convert this dataframe to an interactive table.\"\n",
              "            style=\"display:none;\">\n",
              "\n",
              "  <svg xmlns=\"http://www.w3.org/2000/svg\" height=\"24px\" viewBox=\"0 -960 960 960\">\n",
              "    <path d=\"M120-120v-720h720v720H120Zm60-500h600v-160H180v160Zm220 220h160v-160H400v160Zm0 220h160v-160H400v160ZM180-400h160v-160H180v160Zm440 0h160v-160H620v160ZM180-180h160v-160H180v160Zm440 0h160v-160H620v160Z\"/>\n",
              "  </svg>\n",
              "    </button>\n",
              "\n",
              "  <style>\n",
              "    .colab-df-container {\n",
              "      display:flex;\n",
              "      gap: 12px;\n",
              "    }\n",
              "\n",
              "    .colab-df-convert {\n",
              "      background-color: #E8F0FE;\n",
              "      border: none;\n",
              "      border-radius: 50%;\n",
              "      cursor: pointer;\n",
              "      display: none;\n",
              "      fill: #1967D2;\n",
              "      height: 32px;\n",
              "      padding: 0 0 0 0;\n",
              "      width: 32px;\n",
              "    }\n",
              "\n",
              "    .colab-df-convert:hover {\n",
              "      background-color: #E2EBFA;\n",
              "      box-shadow: 0px 1px 2px rgba(60, 64, 67, 0.3), 0px 1px 3px 1px rgba(60, 64, 67, 0.15);\n",
              "      fill: #174EA6;\n",
              "    }\n",
              "\n",
              "    .colab-df-buttons div {\n",
              "      margin-bottom: 4px;\n",
              "    }\n",
              "\n",
              "    [theme=dark] .colab-df-convert {\n",
              "      background-color: #3B4455;\n",
              "      fill: #D2E3FC;\n",
              "    }\n",
              "\n",
              "    [theme=dark] .colab-df-convert:hover {\n",
              "      background-color: #434B5C;\n",
              "      box-shadow: 0px 1px 3px 1px rgba(0, 0, 0, 0.15);\n",
              "      filter: drop-shadow(0px 1px 2px rgba(0, 0, 0, 0.3));\n",
              "      fill: #FFFFFF;\n",
              "    }\n",
              "  </style>\n",
              "\n",
              "    <script>\n",
              "      const buttonEl =\n",
              "        document.querySelector('#df-58ecd873-05f7-49e2-89cf-466f882c5a4d button.colab-df-convert');\n",
              "      buttonEl.style.display =\n",
              "        google.colab.kernel.accessAllowed ? 'block' : 'none';\n",
              "\n",
              "      async function convertToInteractive(key) {\n",
              "        const element = document.querySelector('#df-58ecd873-05f7-49e2-89cf-466f882c5a4d');\n",
              "        const dataTable =\n",
              "          await google.colab.kernel.invokeFunction('convertToInteractive',\n",
              "                                                    [key], {});\n",
              "        if (!dataTable) return;\n",
              "\n",
              "        const docLinkHtml = 'Like what you see? Visit the ' +\n",
              "          '<a target=\"_blank\" href=https://colab.research.google.com/notebooks/data_table.ipynb>data table notebook</a>'\n",
              "          + ' to learn more about interactive tables.';\n",
              "        element.innerHTML = '';\n",
              "        dataTable['output_type'] = 'display_data';\n",
              "        await google.colab.output.renderOutput(dataTable, element);\n",
              "        const docLink = document.createElement('div');\n",
              "        docLink.innerHTML = docLinkHtml;\n",
              "        element.appendChild(docLink);\n",
              "      }\n",
              "    </script>\n",
              "  </div>\n",
              "\n",
              "\n",
              "<div id=\"df-d91553ed-3e95-4b12-af8f-56c95ee3dff6\">\n",
              "  <button class=\"colab-df-quickchart\" onclick=\"quickchart('df-d91553ed-3e95-4b12-af8f-56c95ee3dff6')\"\n",
              "            title=\"Suggest charts\"\n",
              "            style=\"display:none;\">\n",
              "\n",
              "<svg xmlns=\"http://www.w3.org/2000/svg\" height=\"24px\"viewBox=\"0 0 24 24\"\n",
              "     width=\"24px\">\n",
              "    <g>\n",
              "        <path d=\"M19 3H5c-1.1 0-2 .9-2 2v14c0 1.1.9 2 2 2h14c1.1 0 2-.9 2-2V5c0-1.1-.9-2-2-2zM9 17H7v-7h2v7zm4 0h-2V7h2v10zm4 0h-2v-4h2v4z\"/>\n",
              "    </g>\n",
              "</svg>\n",
              "  </button>\n",
              "\n",
              "<style>\n",
              "  .colab-df-quickchart {\n",
              "      --bg-color: #E8F0FE;\n",
              "      --fill-color: #1967D2;\n",
              "      --hover-bg-color: #E2EBFA;\n",
              "      --hover-fill-color: #174EA6;\n",
              "      --disabled-fill-color: #AAA;\n",
              "      --disabled-bg-color: #DDD;\n",
              "  }\n",
              "\n",
              "  [theme=dark] .colab-df-quickchart {\n",
              "      --bg-color: #3B4455;\n",
              "      --fill-color: #D2E3FC;\n",
              "      --hover-bg-color: #434B5C;\n",
              "      --hover-fill-color: #FFFFFF;\n",
              "      --disabled-bg-color: #3B4455;\n",
              "      --disabled-fill-color: #666;\n",
              "  }\n",
              "\n",
              "  .colab-df-quickchart {\n",
              "    background-color: var(--bg-color);\n",
              "    border: none;\n",
              "    border-radius: 50%;\n",
              "    cursor: pointer;\n",
              "    display: none;\n",
              "    fill: var(--fill-color);\n",
              "    height: 32px;\n",
              "    padding: 0;\n",
              "    width: 32px;\n",
              "  }\n",
              "\n",
              "  .colab-df-quickchart:hover {\n",
              "    background-color: var(--hover-bg-color);\n",
              "    box-shadow: 0 1px 2px rgba(60, 64, 67, 0.3), 0 1px 3px 1px rgba(60, 64, 67, 0.15);\n",
              "    fill: var(--button-hover-fill-color);\n",
              "  }\n",
              "\n",
              "  .colab-df-quickchart-complete:disabled,\n",
              "  .colab-df-quickchart-complete:disabled:hover {\n",
              "    background-color: var(--disabled-bg-color);\n",
              "    fill: var(--disabled-fill-color);\n",
              "    box-shadow: none;\n",
              "  }\n",
              "\n",
              "  .colab-df-spinner {\n",
              "    border: 2px solid var(--fill-color);\n",
              "    border-color: transparent;\n",
              "    border-bottom-color: var(--fill-color);\n",
              "    animation:\n",
              "      spin 1s steps(1) infinite;\n",
              "  }\n",
              "\n",
              "  @keyframes spin {\n",
              "    0% {\n",
              "      border-color: transparent;\n",
              "      border-bottom-color: var(--fill-color);\n",
              "      border-left-color: var(--fill-color);\n",
              "    }\n",
              "    20% {\n",
              "      border-color: transparent;\n",
              "      border-left-color: var(--fill-color);\n",
              "      border-top-color: var(--fill-color);\n",
              "    }\n",
              "    30% {\n",
              "      border-color: transparent;\n",
              "      border-left-color: var(--fill-color);\n",
              "      border-top-color: var(--fill-color);\n",
              "      border-right-color: var(--fill-color);\n",
              "    }\n",
              "    40% {\n",
              "      border-color: transparent;\n",
              "      border-right-color: var(--fill-color);\n",
              "      border-top-color: var(--fill-color);\n",
              "    }\n",
              "    60% {\n",
              "      border-color: transparent;\n",
              "      border-right-color: var(--fill-color);\n",
              "    }\n",
              "    80% {\n",
              "      border-color: transparent;\n",
              "      border-right-color: var(--fill-color);\n",
              "      border-bottom-color: var(--fill-color);\n",
              "    }\n",
              "    90% {\n",
              "      border-color: transparent;\n",
              "      border-bottom-color: var(--fill-color);\n",
              "    }\n",
              "  }\n",
              "</style>\n",
              "\n",
              "  <script>\n",
              "    async function quickchart(key) {\n",
              "      const quickchartButtonEl =\n",
              "        document.querySelector('#' + key + ' button');\n",
              "      quickchartButtonEl.disabled = true;  // To prevent multiple clicks.\n",
              "      quickchartButtonEl.classList.add('colab-df-spinner');\n",
              "      try {\n",
              "        const charts = await google.colab.kernel.invokeFunction(\n",
              "            'suggestCharts', [key], {});\n",
              "      } catch (error) {\n",
              "        console.error('Error during call to suggestCharts:', error);\n",
              "      }\n",
              "      quickchartButtonEl.classList.remove('colab-df-spinner');\n",
              "      quickchartButtonEl.classList.add('colab-df-quickchart-complete');\n",
              "    }\n",
              "    (() => {\n",
              "      let quickchartButtonEl =\n",
              "        document.querySelector('#df-d91553ed-3e95-4b12-af8f-56c95ee3dff6 button');\n",
              "      quickchartButtonEl.style.display =\n",
              "        google.colab.kernel.accessAllowed ? 'block' : 'none';\n",
              "    })();\n",
              "  </script>\n",
              "</div>\n",
              "\n",
              "    </div>\n",
              "  </div>\n"
            ],
            "application/vnd.google.colaboratory.intrinsic+json": {
              "type": "dataframe",
              "variable_name": "df"
            }
          },
          "metadata": {},
          "execution_count": 9
        }
      ]
    },
    {
      "cell_type": "code",
      "source": [
        "df.shape"
      ],
      "metadata": {
        "colab": {
          "base_uri": "https://localhost:8080/"
        },
        "id": "-MkwyefPLc8T",
        "outputId": "2406b5e5-9149-4b5e-8ace-cc0703d4deff"
      },
      "execution_count": 10,
      "outputs": [
        {
          "output_type": "execute_result",
          "data": {
            "text/plain": [
              "(266, 68)"
            ]
          },
          "metadata": {},
          "execution_count": 10
        }
      ]
    },
    {
      "cell_type": "code",
      "source": [],
      "metadata": {
        "id": "UDup8qlYOZLU"
      },
      "execution_count": null,
      "outputs": []
    },
    {
      "cell_type": "code",
      "source": [
        "df.columns"
      ],
      "metadata": {
        "colab": {
          "base_uri": "https://localhost:8080/"
        },
        "id": "OBhEO01XLkOD",
        "outputId": "60085b27-6f72-4d1f-b5bd-c64c66f6e0cc"
      },
      "execution_count": 7,
      "outputs": [
        {
          "output_type": "execute_result",
          "data": {
            "text/plain": [
              "Index(['Country Name', 'Country Code', 'Indicator Name', 'Indicator Code',\n",
              "       '1960', '1961', '1962', '1963', '1964', '1965', '1966', '1967', '1968',\n",
              "       '1969', '1970', '1971', '1972', '1973', '1974', '1975', '1976', '1977',\n",
              "       '1978', '1979', '1980', '1981', '1982', '1983', '1984', '1985', '1986',\n",
              "       '1987', '1988', '1989', '1990', '1991', '1992', '1993', '1994', '1995',\n",
              "       '1996', '1997', '1998', '1999', '2000', '2001', '2002', '2003', '2004',\n",
              "       '2005', '2006', '2007', '2008', '2009', '2010', '2011', '2012', '2013',\n",
              "       '2014', '2015', '2016', '2017', '2018', '2019', '2020', '2021', '2022',\n",
              "       '2023'],\n",
              "      dtype='object')"
            ]
          },
          "metadata": {},
          "execution_count": 7
        }
      ]
    },
    {
      "cell_type": "code",
      "source": [],
      "metadata": {
        "id": "5WdEi-qLOc1T"
      },
      "execution_count": null,
      "outputs": []
    },
    {
      "cell_type": "markdown",
      "source": [
        "# Select population data from 2010 to 2018"
      ],
      "metadata": {
        "id": "om1tMD54OdgD"
      }
    },
    {
      "cell_type": "code",
      "source": [
        "years = [str(y) for y in range(2010, 2019)]\n",
        "df_selected = df[[\"Country Name\"] + years].dropna()"
      ],
      "metadata": {
        "id": "A4mY-iGxOecj"
      },
      "execution_count": 12,
      "outputs": []
    },
    {
      "cell_type": "code",
      "source": [],
      "metadata": {
        "id": "9BtVEphIOo5L"
      },
      "execution_count": null,
      "outputs": []
    },
    {
      "cell_type": "markdown",
      "source": [
        "# Plot histogram for population distribution across countries over the years 2010-2018"
      ],
      "metadata": {
        "id": "W9w7KtgdOjqL"
      }
    },
    {
      "cell_type": "code",
      "source": [
        "plt.figure(figsize=(12, 6))\n",
        "for year in years:\n",
        "    plt.hist(df_selected[year], bins=30, alpha=0.5, label=year, edgecolor=\"black\")\n",
        "\n",
        "plt.xlabel(\"Population\")\n",
        "plt.ylabel(\"Number of Countries\")\n",
        "plt.title(\"Population Distribution Across Countries (2010-2018)\")\n",
        "plt.xscale(\"log\")  # Log scale for better visualization\n",
        "plt.legend(title=\"Year\")\n",
        "plt.grid(True, which=\"both\", linestyle=\"--\", linewidth=0.5)\n",
        "plt.show()"
      ],
      "metadata": {
        "colab": {
          "base_uri": "https://localhost:8080/",
          "height": 569
        },
        "id": "OtND_SFHOp-8",
        "outputId": "f660b25a-9788-4bc9-91aa-55920743bd55"
      },
      "execution_count": 13,
      "outputs": [
        {
          "output_type": "display_data",
          "data": {
            "text/plain": [
              "<Figure size 1200x600 with 1 Axes>"
            ],
            "image/png": "[encoded data removed]"
          },
          "metadata": {}
        }
      ]
    }
  ]
}